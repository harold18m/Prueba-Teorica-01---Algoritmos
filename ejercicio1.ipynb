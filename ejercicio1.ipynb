{
 "cells": [
  {
   "cell_type": "code",
   "execution_count": 4,
   "metadata": {},
   "outputs": [
    {
     "name": "stdout",
     "output_type": "stream",
     "text": [
      "El mayor número es: 4.2\n",
      "El menor número es: 0.1\n",
      "La suma de los números es: 8.8\n",
      "El promedio de los números es: 1.7600000000000002\n"
     ]
    }
   ],
   "source": [
    "\"\"\"\n",
    "Se tiene una lista de números decimales, encontrar, mayor, menor, suma de números,\n",
    "y promedio. Usar bucles para su resolución y no librerías o funciones definidas (5\n",
    "puntos) \n",
    "\"\"\"\n",
    "#listas de números decimales\n",
    "lista_decimales = [0.1, 0.5, 1.25, 2.75, 4.2]\n",
    "#inicializar variables\n",
    "maximo = lista_decimales[0]\n",
    "minimo = lista_decimales[0]\n",
    "suma = 0\n",
    "\n",
    "# Calculando el máximo, mínimo, suma y promedio\n",
    "# Iterar sobre lista de numeros decimales\n",
    "for numeroDecimal in lista_decimales:\n",
    "    # Calculo del máximo\n",
    "    if numeroDecimal > maximo:\n",
    "        maximo = numeroDecimal\n",
    "    # Calculo del mínimo\n",
    "    if numeroDecimal < minimo:\n",
    "        minimo = numeroDecimal\n",
    "    # Calculo de la suma\n",
    "    suma += numeroDecimal\n",
    "\n",
    "# Calculo del promedio\n",
    "promedio = suma / len(lista_decimales)\n",
    "\n",
    "# Impresión de los resultados\n",
    "print(f\"El mayor número es: {maximo}\")\n",
    "print(f\"El menor número es: {minimo}\" )\n",
    "print(f\"La suma de los números es: {suma}\")\n",
    "print(f\"El promedio de los números es: {promedio}\")"
   ]
  }
 ],
 "metadata": {
  "kernelspec": {
   "display_name": "Python 3",
   "language": "python",
   "name": "python3"
  },
  "language_info": {
   "codemirror_mode": {
    "name": "ipython",
    "version": 3
   },
   "file_extension": ".py",
   "mimetype": "text/x-python",
   "name": "python",
   "nbconvert_exporter": "python",
   "pygments_lexer": "ipython3",
   "version": "3.10.4"
  },
  "orig_nbformat": 4
 },
 "nbformat": 4,
 "nbformat_minor": 2
}
